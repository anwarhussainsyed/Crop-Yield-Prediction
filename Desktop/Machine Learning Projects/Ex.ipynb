{
 "cells": [
  {
   "cell_type": "raw",
   "source": [],
   "metadata": {
    "collapsed": false
   },
   "id": "aa7d4643c8ad0120"
  }
 ],
 "metadata": {},
 "nbformat": 4,
 "nbformat_minor": 5
}
